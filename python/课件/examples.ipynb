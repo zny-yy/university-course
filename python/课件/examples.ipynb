{
 "cells": [
  {
   "cell_type": "markdown",
   "metadata": {},
   "source": [
    "# Python基本数据类型"
   ]
  },
  {
   "cell_type": "markdown",
   "metadata": {},
   "source": [
    "## Number"
   ]
  },
  {
   "cell_type": "code",
   "execution_count": 1,
   "metadata": {},
   "outputs": [
    {
     "name": "stdout",
     "output_type": "stream",
     "text": [
      "2743750125936\n",
      "2743750125968\n"
     ]
    }
   ],
   "source": [
    "i = 3\n",
    "print(id(i))\n",
    "i += 1\n",
    "print(id(i))"
   ]
  },
  {
   "cell_type": "code",
   "execution_count": 2,
   "metadata": {},
   "outputs": [
    {
     "name": "stdout",
     "output_type": "stream",
     "text": [
      "2743750125872\n",
      "2743750125936\n"
     ]
    }
   ],
   "source": [
    "a = 1\n",
    "b = a + 2\n",
    "print(id(a))\n",
    "print(id(b))"
   ]
  },
  {
   "cell_type": "markdown",
   "metadata": {},
   "source": [
    "## String"
   ]
  },
  {
   "cell_type": "code",
   "execution_count": 3,
   "metadata": {},
   "outputs": [
    {
     "name": "stdout",
     "output_type": "stream",
     "text": [
      "ic\n",
      "ur\n",
      "tur\n",
      "icture\n",
      "cture\n",
      "PicturePicture\n",
      "PictureTEST\n"
     ]
    }
   ],
   "source": [
    "str = 'Picture'\n",
    "print (str[1:3])   # 第二、三个字符\n",
    "print (str[-3:-1]) # 倒数第二、三个字符\n",
    "print (str[3:-1])  # 正数第四个到倒数第二个字符 \n",
    "print (str[-6:7])  # 倒数第六个到正数第七个字符 \n",
    "print (str[2:])    # 第三个字符开始的所有字符 \n",
    "print (str * 2)    # 输出字符串两次\n",
    "print (str + \"TEST\") # 连接字符串"
   ]
  },
  {
   "cell_type": "code",
   "execution_count": 1,
   "metadata": {},
   "outputs": [
    {
     "ename": "SyntaxError",
     "evalue": "EOL while scanning string literal (Temp/ipykernel_8240/160238793.py, line 5)",
     "output_type": "error",
     "traceback": [
      "\u001b[1;36m  File \u001b[1;32m\"C:\\Users\\happy\\AppData\\Local\\Temp/ipykernel_8240/160238793.py\"\u001b[1;36m, line \u001b[1;32m5\u001b[0m\n\u001b[1;33m    word[0] ='Q’\u001b[0m\n\u001b[1;37m                ^\u001b[0m\n\u001b[1;31mSyntaxError\u001b[0m\u001b[1;31m:\u001b[0m EOL while scanning string literal\n"
     ]
    }
   ],
   "source": [
    "word = 'Python' \n",
    "print(word[0], word[5])\n",
    "print(word[-1], word[-6])\n",
    "#无法通过切片修改 word字符串：\n",
    "word[0] ='Q’"
   ]
  },
  {
   "cell_type": "markdown",
   "metadata": {},
   "source": [
    "## List"
   ]
  },
  {
   "cell_type": "code",
   "execution_count": 5,
   "metadata": {},
   "outputs": [
    {
     "name": "stdout",
     "output_type": "stream",
     "text": [
      "['a', 56, 1.13, 'HelloWorld', [7, 8, 9]]\n",
      "[7, 8, 9]\n",
      "['HelloWorld', [7, 8, 9]]\n",
      "[1.13, 'HelloWorld', [7, 8, 9]]\n"
     ]
    }
   ],
   "source": [
    "list = [ 'a', 56 , 1.13, 'HelloWorld',[7,8,9] ]\n",
    "print(list)       #完整列表 \n",
    "print(list[4])    # 第五个元素\n",
    "print(list[-2:5]) # 从倒数第二个到正数第五个元素 \n",
    "print(list[2:])   # 第三个元素开始的所有元素"
   ]
  },
  {
   "cell_type": "code",
   "execution_count": 6,
   "metadata": {},
   "outputs": [
    {
     "name": "stdout",
     "output_type": "stream",
     "text": [
      "[9, 2, 3, 4, 5, 6]\n",
      "[9, 2, 3, 4, 5, 6, 7]\n",
      "[9, 2, 6, 7]\n",
      "[9, 2, 7]\n"
     ]
    }
   ],
   "source": [
    "a = [1, 2, 3, 4, 5, 6]\n",
    "a[0] = 9    # 将第一个元素设为9 \n",
    "print(a)\n",
    "a.append(7) # 在列表末尾追加7 \n",
    "print(a)\n",
    "a[2:5] = [] # 将第三到五个元素值设置为空值 \n",
    "print(a)\n",
    "a.pop(2)    # 将第三个元素移除 \n",
    "print(a)"
   ]
  },
  {
   "cell_type": "code",
   "execution_count": 7,
   "metadata": {},
   "outputs": [
    {
     "name": "stdout",
     "output_type": "stream",
     "text": [
      "蚂蚱\n",
      "螳螂\n",
      "蝈蝈\n",
      "蝗虫\n",
      "蛐蛐\n",
      "(0, '蚂蚱')\n",
      "(1, '螳螂')\n",
      "(2, '蝈蝈')\n",
      "(3, '蝗虫')\n",
      "(4, '蛐蛐')\n",
      "蚂蚱\n",
      "螳螂\n",
      "蝈蝈\n",
      "蝗虫\n",
      "蛐蛐\n"
     ]
    }
   ],
   "source": [
    "lis= ['蚂蚱','螳螂','蝈蝈','蝗虫','蛐蛐'] \n",
    "#(1)直接遍历\n",
    "for x in lis:\n",
    "    print(x)    \n",
    "\n",
    "#(2)按索引遍历 \n",
    "for i in enumerate(lis):\n",
    "    print(i)\n",
    "\n",
    "#(3)对于列表类型，还有一种通过下标遍历的方式，如使用range()函数\n",
    "for i in range(5):\n",
    "    print(lis[i])"
   ]
  },
  {
   "cell_type": "markdown",
   "metadata": {},
   "source": [
    "## Tuple"
   ]
  },
  {
   "cell_type": "code",
   "execution_count": 8,
   "metadata": {},
   "outputs": [
    {
     "name": "stdout",
     "output_type": "stream",
     "text": [
      "('SpiderMan', 2017, 33.4, 'Homecoming', 14)\n",
      "SpiderMan\n",
      "('Homecoming',)\n",
      "('SpiderMan', 2017, 33.4, 'Homecoming', 14, 16, 'Marvel')\n"
     ]
    }
   ],
   "source": [
    "tuple = ( 'SpiderMan',2017 ,33.4, 'Homecoming', 14 ) \n",
    "tinytuple = (16, 'Marvel') \n",
    "print (tuple)      # 输出完整元组 \n",
    "print (tuple[0])   # 输出元组的第一个元素 \n",
    "print (tuple[3:4]) # 输出从第二个元素开始到第三个元素 \n",
    "print (tuple + tinytuple) # 连接元组"
   ]
  },
  {
   "cell_type": "code",
   "execution_count": 2,
   "metadata": {},
   "outputs": [
    {
     "name": "stdout",
     "output_type": "stream",
     "text": [
      "[16, 'Marvel']\n",
      "(['Marvel', '16'], 'SpiderMan', 2017, 33.4, 'Homecoming', 14)\n"
     ]
    }
   ],
   "source": [
    "#元组的元素不可改变，但如果元组包含了可变类型的数据项，则该数据项可以修改\n",
    "tuple = ([16, 'Marvel'] , 'SpiderMan',2017 ,33.4, 'Homecoming', 14,) \n",
    "print(tuple[0])\n",
    "tuple[0][0]='Marvel'\n",
    "tuple[1]='16'\n",
    "print (tuple)"
   ]
  },
  {
   "cell_type": "markdown",
   "metadata": {},
   "source": [
    "## Dictionary"
   ]
  },
  {
   "cell_type": "code",
   "execution_count": 10,
   "metadata": {},
   "outputs": [
    {
     "name": "stdout",
     "output_type": "stream",
     "text": [
      "{'Name': 'Mary', 'Age': 7, 'Class': 'First'}\n",
      "Mary\n",
      "Age:  7\n"
     ]
    }
   ],
   "source": [
    "dict = {'Name': 'Mary', 'Age': 7, 'Class': 'First'}; \n",
    "print(dict);\n",
    "print(dict['Name'])\n",
    "print(\"Age: \", dict['Age'])"
   ]
  },
  {
   "cell_type": "code",
   "execution_count": 11,
   "metadata": {},
   "outputs": [
    {
     "name": "stdout",
     "output_type": "stream",
     "text": [
      "{'Name': 'Zara', 'Class': 'First', 'Gender': 'Female'}\n",
      "{'Name': 'Zara', 'Class': 'First', 'Gender': 'Female', 'No': '001'}\n",
      "{'Name': 'Zara', 'Class': 'First', 'Gender': 'F', 'No': '001', 'Id': 1}\n"
     ]
    }
   ],
   "source": [
    "dict = {'Name': 'Zara', 'Class': 'First'}; \n",
    "#添加add\n",
    "dict['Gender']=\"Female\"\n",
    "print(dict)\n",
    "#修改update\n",
    "dict.update({\"No\":\"001\"})\n",
    "print(dict)\n",
    "#也可以使用update方法添加/修改多个数据\n",
    "dict.update({'Gender':\"F\",\"Id\":1})\n",
    "print(dict)"
   ]
  },
  {
   "cell_type": "code",
   "execution_count": 12,
   "metadata": {},
   "outputs": [
    {
     "name": "stdout",
     "output_type": "stream",
     "text": [
      "{'Name': 'Zara', 'Class': 'First', 'No': '001', 'Id': 1}\n",
      "{}\n"
     ]
    }
   ],
   "source": [
    "del dict['Gender']\n",
    "print(dict)\n",
    "dict.clear()\n",
    "print(dict)"
   ]
  },
  {
   "cell_type": "markdown",
   "metadata": {},
   "source": [
    "## Set"
   ]
  },
  {
   "cell_type": "code",
   "execution_count": 13,
   "metadata": {},
   "outputs": [
    {
     "name": "stdout",
     "output_type": "stream",
     "text": [
      "set() <class 'set'>\n",
      "{'LiLei', 'ZhangHua', 'HanMeiMei'} <class 'set'>\n"
     ]
    }
   ],
   "source": [
    "#创建一个空集合\n",
    "var = set()\n",
    "#显示集合内容和类型 \n",
    "print(var,type(var))\n",
    "#具有数据的集合\n",
    "var = {'LiLei','HanMeiMei','ZhangHua','LiLei','LiLei'}\n",
    "#显示集合内容和类型\n",
    "print(var,type(var))"
   ]
  },
  {
   "cell_type": "code",
   "execution_count": 14,
   "metadata": {},
   "outputs": [
    {
     "name": "stdout",
     "output_type": "stream",
     "text": [
      "{'LiLei', 'ZhangHua', 'LiBai', 'HanMeiMei'}\n",
      "{'D', 'LiBai', 'LiLei', 'HanMeiMei', 'F', 'u', 'ZhangHua'}\n",
      "{'LiBai', 'LiLei', 'HanMeiMei', 'ZhangHua'}\n"
     ]
    }
   ],
   "source": [
    "var = {'LiLei','HanMeiMei','ZhangHua'}\n",
    "var.add('LiBai')     #add方法添加元素\n",
    "print(var)\n",
    "var.update('DuFu')   #update方法首先拆分元素，然后各个添加\n",
    "print(var)           #数据项无序，且去除重复项  \n",
    "var.remove('D')\n",
    "var.remove('F')\n",
    "var.remove('u')\n",
    "print(var)"
   ]
  },
  {
   "cell_type": "code",
   "execution_count": 15,
   "metadata": {},
   "outputs": [
    {
     "name": "stdout",
     "output_type": "stream",
     "text": [
      "青鼬\n",
      "紫貂\n",
      "松貂\n",
      "狼獾\n",
      "(0, '青鼬')\n",
      "(1, '紫貂')\n",
      "(2, '松貂')\n",
      "(3, '狼獾')\n"
     ]
    }
   ],
   "source": [
    "anml ={'紫貂','松貂','青鼬','狼獾'}\n",
    "for item in anml:\n",
    "       print(item)\n",
    "for item in enumerate(anml):\n",
    "       print(item)"
   ]
  },
  {
   "cell_type": "code",
   "execution_count": 16,
   "metadata": {},
   "outputs": [
    {
     "name": "stdout",
     "output_type": "stream",
     "text": [
      "貂熊是： {'狼獾'}\n",
      "鼬科的是： {'美洲水鼬', '蜜獾', '紫貂', '狼獾', '松貂', '猪獾'}\n",
      "除去獾的貂类： {'美洲水鼬', '松貂', '紫貂'}\n"
     ]
    }
   ],
   "source": [
    "#分别构造獾和貂两个集合\n",
    "Huan={'猪獾','蜜獾','狼獾',}\n",
    "Diao={'紫貂','松貂','美洲水鼬','狼獾'}\n",
    "DiaoXiong=Huan&Diao         #交集\n",
    "print('貂熊是：',DiaoXiong)\n",
    "Youke=Huan|Diao                #并集\n",
    "print('鼬科的是：',Youke)\n",
    "DiaoT=Diao-Huan                #差集\n",
    "print('除去獾的貂类：',DiaoT)"
   ]
  },
  {
   "cell_type": "markdown",
   "metadata": {},
   "source": [
    "# 数据文件读写"
   ]
  },
  {
   "cell_type": "markdown",
   "metadata": {},
   "source": [
    "## Python读写文件"
   ]
  },
  {
   "cell_type": "code",
   "execution_count": 17,
   "metadata": {},
   "outputs": [
    {
     "name": "stdout",
     "output_type": "stream",
     "text": [
      "1.5 4\n",
      "======\n",
      "0 thin\n",
      "1.5 50 fat\n",
      "1.5 60 fat\n",
      "1.6 40 thin\n",
      "1.6 50 thin\n",
      "1.6 60 fat\n",
      "1.6 70 fat\n",
      "1.7 50 thin\n",
      "1.7 60 thin\n",
      "1.7 70 fat\n",
      "1.7 80 fat\n",
      "1.8 60 thin\n",
      "1.8 70 thin\n",
      "1.8 80 fat\n",
      "1.8 90 fat\n",
      "1.9 80 thin\n",
      "1.9 90 fat\n"
     ]
    }
   ],
   "source": [
    "with open(\"data.txt\") as f:   # 默认模式为‘r’，只读模式\n",
    "    ct10 = f.read(5)          # 读5个字符\n",
    "    print(ct10)\n",
    "    print('======')\n",
    "    contents = f.read()       # 从当前位置，读文件全部内容\n",
    "    print(contents)"
   ]
  },
  {
   "cell_type": "code",
   "execution_count": 18,
   "metadata": {},
   "outputs": [],
   "source": [
    "filename = 'write_data.txt'\n",
    "with open(filename,'w') as f:   # 'w'表示写数据，会清空原文件\n",
    "    f.write(\"I am ZhangSanFeng.\\n\")\n",
    "    f.write(\"I am now studying in ECNU.\\n\")"
   ]
  },
  {
   "cell_type": "code",
   "execution_count": 19,
   "metadata": {},
   "outputs": [],
   "source": [
    "filename = 'INFO.txt'\n",
    "f=open(filename,'w')    #清空原文件数据，文件不存在则创建新文件\n",
    "f.write(\"I am ZhangSanFeng.\\n\")\n",
    "f.write(\"I am now studying in ECNU.\\n\")\n",
    "f.close()"
   ]
  },
  {
   "cell_type": "markdown",
   "metadata": {},
   "source": [
    "## Pandas读写文件"
   ]
  },
  {
   "cell_type": "code",
   "execution_count": 20,
   "metadata": {},
   "outputs": [
    {
     "name": "stdout",
     "output_type": "stream",
     "text": [
      "        学号  姓名   学院  专业\n",
      "0  2022001  张三  计算机  计科\n",
      "1  2022002  李四   管理  公管\n",
      "2  2022003  王五   机电  机制\n",
      "========\n",
      "         学号,姓名,学院,专业\n",
      "0  2022001,张三,计算机,计科\n",
      "1   2022002,李四,管理,公管\n",
      "2   2022003,王五,机电,机制\n"
     ]
    }
   ],
   "source": [
    "import pandas as pd\n",
    "data1=pd.read_csv('dataH.csv',encoding='utf-8')\n",
    "print(data1)\n",
    "print('========')\n",
    "data2=pd.read_csv('dataH.csv',sep = ' ')\n",
    "print(data2)"
   ]
  },
  {
   "cell_type": "code",
   "execution_count": 21,
   "metadata": {},
   "outputs": [
    {
     "name": "stdout",
     "output_type": "stream",
     "text": [
      "      H   W     C\n",
      "0   1.5  40  thin\n",
      "1   1.5  50   fat\n",
      "2   1.5  60   fat\n",
      "3   1.6  40  thin\n",
      "4   1.6  50  thin\n",
      "5   1.6  60   fat\n",
      "6   1.6  70   fat\n",
      "7   1.7  50  thin\n",
      "8   1.7  60  thin\n",
      "9   1.7  70   fat\n",
      "10  1.7  80   fat\n",
      "11  1.8  60  thin\n",
      "12  1.8  70  thin\n",
      "13  1.8  80   fat\n",
      "14  1.8  90   fat\n",
      "15  1.9  80  thin\n",
      "16  1.9  90   fat\n"
     ]
    }
   ],
   "source": [
    "import pandas as pd\n",
    "data3=pd.read_table('data.txt',sep=' ',header=None, names=[\"H\",\"W\",\"C\"])\n",
    "print(data3)"
   ]
  },
  {
   "cell_type": "code",
   "execution_count": 22,
   "metadata": {},
   "outputs": [],
   "source": [
    "data3.to_csv('New.csv',columns=[\"H\",\"W\"])"
   ]
  },
  {
   "cell_type": "markdown",
   "metadata": {},
   "source": [
    "## Numpy读写文件"
   ]
  },
  {
   "cell_type": "code",
   "execution_count": 23,
   "metadata": {},
   "outputs": [
    {
     "name": "stdout",
     "output_type": "stream",
     "text": [
      "[['1.5' '40' 'thin']\n",
      " ['1.5' '50' 'fat']\n",
      " ['1.5' '60' 'fat']\n",
      " ['1.6' '40' 'thin']\n",
      " ['1.6' '50' 'thin']\n",
      " ['1.6' '60' 'fat']\n",
      " ['1.6' '70' 'fat']\n",
      " ['1.7' '50' 'thin']\n",
      " ['1.7' '60' 'thin']\n",
      " ['1.7' '70' 'fat']\n",
      " ['1.7' '80' 'fat']\n",
      " ['1.8' '60' 'thin']\n",
      " ['1.8' '70' 'thin']\n",
      " ['1.8' '80' 'fat']\n",
      " ['1.8' '90' 'fat']\n",
      " ['1.9' '80' 'thin']\n",
      " ['1.9' '90' 'fat']]\n",
      "----分隔线-----------\n"
     ]
    },
    {
     "name": "stderr",
     "output_type": "stream",
     "text": [
      "C:\\Users\\happy\\AppData\\Local\\Temp/ipykernel_4076/2107977115.py:3: DeprecationWarning: `np.str` is a deprecated alias for the builtin `str`. To silence this warning, use `str` by itself. Doing this will not modify any behavior and is safe. If you specifically wanted the numpy scalar type, use `np.str_` here.\n",
      "Deprecated in NumPy 1.20; for more details and guidance: https://numpy.org/devdocs/release/1.20.0-notes.html#deprecations\n",
      "  tmp = np.loadtxt(\"data.txt\", dtype=np.str, \t\t\tdelimiter=\" \")\n"
     ]
    }
   ],
   "source": [
    "import numpy as np\n",
    "# 采用字符串数组读取文件\n",
    "tmp = np.loadtxt(\"data.txt\", dtype=np.str, \t\t\tdelimiter=\" \")\n",
    "print(tmp)\n",
    "print(\"----分隔线-----------\")"
   ]
  },
  {
   "cell_type": "code",
   "execution_count": 24,
   "metadata": {},
   "outputs": [
    {
     "name": "stdout",
     "output_type": "stream",
     "text": [
      "[['40' 'thin']\n",
      " ['50' 'fat']\n",
      " ['60' 'fat']\n",
      " ['40' 'thin']\n",
      " ['50' 'thin']\n",
      " ['60' 'fat']\n",
      " ['70' 'fat']\n",
      " ['50' 'thin']\n",
      " ['60' 'thin']\n",
      " ['70' 'fat']\n",
      " ['80' 'fat']\n",
      " ['60' 'thin']\n",
      " ['70' 'thin']\n",
      " ['80' 'fat']\n",
      " ['90' 'fat']\n",
      " ['80' 'thin']\n",
      " ['90' 'fat']]\n"
     ]
    },
    {
     "name": "stderr",
     "output_type": "stream",
     "text": [
      "C:\\Users\\happy\\AppData\\Local\\Temp/ipykernel_4076/927755889.py:1: DeprecationWarning: `np.str` is a deprecated alias for the builtin `str`. To silence this warning, use `str` by itself. Doing this will not modify any behavior and is safe. If you specifically wanted the numpy scalar type, use `np.str_` here.\n",
      "Deprecated in NumPy 1.20; for more details and guidance: https://numpy.org/devdocs/release/1.20.0-notes.html#deprecations\n",
      "  tmp1 = np.loadtxt(\"data.txt\",dtype=np.str,usecols=(1,2))\n"
     ]
    }
   ],
   "source": [
    "tmp1 = np.loadtxt(\"data.txt\",dtype=np.str,usecols=(1,2))\n",
    "print(tmp1)"
   ]
  },
  {
   "cell_type": "code",
   "execution_count": 25,
   "metadata": {},
   "outputs": [
    {
     "name": "stdout",
     "output_type": "stream",
     "text": [
      "[ 0.   4.5  9.  13.5 18.  22.5 27.  31.5 36.  40.5 45.  49.5] [ 0.   4.5  9.  13.5 18.  22.5 27.  31.5 36.  40.5 45.  49.5] [ 0.   4.5  9.  13.5 18.  22.5 27.  31.5 36.  40.5 45.  49.5]\n"
     ]
    }
   ],
   "source": [
    "x = y = z =np.arange(0,50,4.5)\n",
    "print(x,y,z)\n",
    "#把x保留一位小数\n",
    "np.savetxt('X1.txt',x,delimiter=',',fmt='%5.1f')\n",
    "#把x保留三位小数\n",
    "np.savetxt('X3.txt',x,delimiter=',',fmt='%7.3f')\n",
    "#把三个数组按原格式写入文件\n",
    "np.savetxt('XYZ.txt',(x,y,z))"
   ]
  },
  {
   "cell_type": "markdown",
   "metadata": {},
   "source": [
    "# 综合实例"
   ]
  },
  {
   "cell_type": "code",
   "execution_count": 3,
   "metadata": {},
   "outputs": [
    {
     "name": "stdout",
     "output_type": "stream",
     "text": [
      "===浏览数据===\n",
      "<_csv.reader object at 0x00000109AFC58940>\n",
      "['fixed acidity,volatile acidity,citric acid,residual sugar,chlorides,free sulfur dioxide,total sulfur dioxide,density,pH,sulphates,alcohol,quality']\n",
      "['7.4,0.7,0.0,1.9,0.076,11.0,34.0,0.9978,3.51,0.56,9.4,5']\n",
      "['7.8,0.88,0.0,2.6,0.098,25.0,67.0,0.9968,3.2,0.68,9.8,5']\n",
      "['7.8,0.76,0.04,2.3,0.092,15.0,54.0,0.997,3.26,0.65,9.8,5']\n",
      "['11.2,0.28,0.56,1.9,0.075,17.0,60.0,0.998,3.16,0.58,9.8,6']\n",
      "===统计葡萄酒等级===\n",
      "葡萄酒共有6种等级，分别是:{3, 4, 5, 6, 7, 8}\n",
      "===统计每种等级的数量===\n",
      "5 : 681\n",
      "6 : 638\n",
      "7 : 199\n",
      "4 : 53\n",
      "8 : 18\n",
      "3 : 10\n",
      "===计算每种等级固定酸度（fixed acidity）的均值===\n",
      "5 , 8.167254038179149\n",
      "6 , 8.347178683385575\n",
      "7 , 8.872361809045225\n",
      "4 , 7.779245283018868\n",
      "8 , 8.566666666666665\n",
      "3 , 8.36\n"
     ]
    }
   ],
   "source": [
    "import csv\n",
    "\n",
    "print(\"===浏览数据===\")\n",
    "f = open(\"wine.csv\",\"r\")\n",
    "reader = csv.reader(f,delimiter = \";\")\n",
    "print(reader)\n",
    "\n",
    "data =[]\n",
    "for row in reader:\n",
    "    data.append(row)\n",
    "\n",
    "for i in range(5):\n",
    "    print(data[i])\n",
    "f.close\n",
    "\n",
    "print(\"===统计葡萄酒等级===\")\n",
    "qlist = []\n",
    "for row in data[1:]:\n",
    "    qlist.append(int(row[0][-1]))\n",
    "qcount = set(qlist)\n",
    "print(\"葡萄酒共有%d种等级，分别是:%r\"%(len(qcount),qcount))\n",
    "\n",
    "print(\"===统计每种等级的数量===\")\n",
    "content_dict = {}\n",
    "for row in data[1:]:\n",
    "    quality = int(row[0][-1])\n",
    "    if quality not in content_dict.keys():\n",
    "        content_dict[quality] = [row]\n",
    "    else:\n",
    "        content_dict[quality].append(row)\n",
    "\n",
    "for key in content_dict:\n",
    "    print(key,\":\",len(content_dict[key]))\n",
    "\n",
    "print(\"===计算每种等级固定酸度（fixed acidity）的均值===\")\n",
    "#计算每种等级固定酸度（fixed acidity）的均值    \n",
    "mean_list = []\n",
    "for key,value in content_dict.items():\n",
    "    sum = 0\n",
    "    for row in value:\n",
    "        a = row[0].split(',')\n",
    "        sum += float(a[0])\n",
    "    mean_list.append((key, sum / len(value)))\n",
    "for item in mean_list:\n",
    "    print(item[0],\",\", item[1])"
   ]
  },
  {
   "cell_type": "code",
   "execution_count": 20,
   "metadata": {},
   "outputs": [
    {
     "name": "stdout",
     "output_type": "stream",
     "text": [
      "[681, 638, 199, 53, 18, 10]\n"
     ]
    },
    {
     "data": {
      "image/png": "[encoded data removed]",
      "text/plain": [
       "<Figure size 640x320 with 1 Axes>"
      ]
     },
     "metadata": {},
     "output_type": "display_data"
    }
   ],
   "source": [
    "import numpy as np\n",
    "import matplotlib.pyplot as plt\n",
    "plt.rcParams['font.sans-serif'] = ['SimHei']\n",
    "plt.rcParams['axes.unicode_minus'] = False\n",
    "key_1 = []\n",
    "a = []\n",
    "for key in content_dict:\n",
    "    key_1.append(key)\n",
    "    a.append(len(content_dict[key]))\n",
    "#plt.pie(x = a,labels = key_1)\n",
    "#plt.show()\n",
    "print(a)\n",
    "plt.figure(figsize=(8,4), dpi=80)\n",
    "ax = plt.subplot(111)\n",
    "#设置属性\n",
    "ax.set_title('不同等级葡萄酒数据比例')\n",
    "# 绘制饼图\n",
    "ax.pie(a,labels=key_1,autopct='%1.1f%%',labeldistance=0.8)\n",
    "# 显示图像\n",
    "plt.axis('equal')\n",
    "plt.show()"
   ]
  }
 ],
 "metadata": {
  "kernelspec": {
   "display_name": "MLP37",
   "language": "python",
   "name": "mlp37"
  },
  "language_info": {
   "codemirror_mode": {
    "name": "ipython",
    "version": 3
   },
   "file_extension": ".py",
   "mimetype": "text/x-python",
   "name": "python",
   "nbconvert_exporter": "python",
   "pygments_lexer": "ipython3",
   "version": "3.9.7"
  },
  "toc": {
   "base_numbering": 1,
   "nav_menu": {},
   "number_sections": true,
   "sideBar": true,
   "skip_h1_title": false,
   "title_cell": "Table of Contents",
   "title_sidebar": "Contents",
   "toc_cell": false,
   "toc_position": {
    "height": "calc(100% - 180px)",
    "left": "10px",
    "top": "150px",
    "width": "174.198px"
   },
   "toc_section_display": true,
   "toc_window_display": true
  }
 },
 "nbformat": 4,
 "nbformat_minor": 4
}
