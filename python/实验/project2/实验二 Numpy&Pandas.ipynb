{
 "cells": [
  {
   "cell_type": "markdown",
   "id": "0ba3699e",
   "metadata": {
    "pycharm": {
     "name": "#%% md\n"
    }
   },
   "source": [
    "# 实验1\n",
    "1、Numpy基础实验：请生成如图1所示的对称矩阵，并保存成csv文件\n",
    "\n",
    "$$\\left[\n",
    "\\begin{matrix}\n",
    " 2 & -8 &  0 &  3 \\\\\n",
    "-8 &  0 & -4 &  6 \\\\\n",
    " 0 & -4 & -1 & -2 \\\\\n",
    " 3 &  6 & -2 &  1\n",
    "\\end{matrix}\n",
    "\\right]\n",
    "$$\n"
   ]
  },
  {
   "cell_type": "code",
   "execution_count": 1,
   "id": "491eb691",
   "metadata": {
    "pycharm": {
     "name": "#%%\n"
    }
   },
   "outputs": [
    {
     "name": "stdout",
     "output_type": "stream",
     "text": [
      "随机生成4*4 整数矩阵：\n",
      " [[ 2  2  1  8]\n",
      " [-8  5  4 -1]\n",
      " [-2 -8  3 -8]\n",
      " [-9  8  3  9]]\n"
     ]
    },
    {
     "data": {
      "text/plain": "array([[ 2,  2,  1,  8],\n       [-8,  5,  4, -1],\n       [-2, -8,  3, -8],\n       [-9,  8,  3,  9]])"
     },
     "execution_count": 1,
     "metadata": {},
     "output_type": "execute_result"
    }
   ],
   "source": [
    "import numpy as np\n",
    "sarray = np.random.randint(-10,10,size=(4, 4))\n",
    "print('随机生成4*4 整数矩阵：\\n',sarray)\n",
    "sarray"
   ]
  },
  {
   "cell_type": "code",
   "execution_count": 2,
   "id": "a831f5d8",
   "metadata": {
    "scrolled": true,
    "pycharm": {
     "name": "#%%\n"
    }
   },
   "outputs": [
    {
     "name": "stdout",
     "output_type": "stream",
     "text": [
      "随机生成4*4 整数矩阵：\n",
      " [[ -2  -3   2   4]\n",
      " [ -8   6  -1  -9]\n",
      " [-10  -7   0   5]\n",
      " [  1   3  -1  -7]]\n",
      "变成上三角矩阵：\n",
      " [[-2 -3  2  4]\n",
      " [ 0  6 -1 -9]\n",
      " [ 0  0  0  5]\n",
      " [ 0  0  0 -7]]\n",
      "生成4*4 对称矩阵：\n",
      " [[-2 -3  2  4]\n",
      " [-3  6 -1 -9]\n",
      " [ 2 -1  0  5]\n",
      " [ 4 -9  5 -7]]\n"
     ]
    }
   ],
   "source": [
    "import numpy as np\n",
    "sarray = np.random.randint(-10,10,size=(4, 4))\n",
    "print('随机生成4*4 整数矩阵：\\n',sarray)\n",
    "sarray = np.triu(sarray)\n",
    "print('变成上三角矩阵：\\n',sarray)\n",
    "sarray += sarray.T -np.diag(sarray.diagonal())\n",
    "print('生成4*4 对称矩阵：\\n',sarray)\n",
    "np.savetxt(\"D:\\sarrays.csv\", sarray, fmt=\"%d\", delimiter=\",\")"
   ]
  },
  {
   "cell_type": "code",
   "execution_count": 3,
   "id": "cc1ac99b",
   "metadata": {
    "pycharm": {
     "name": "#%%\n"
    }
   },
   "outputs": [
    {
     "name": "stdout",
     "output_type": "stream",
     "text": [
      "创建的对称矩阵为：\n",
      " [[ 2 -8  0  3]\n",
      " [-8  0 -4  6]\n",
      " [ 0 -4 -1 -2]\n",
      " [ 3  6 -2  1]]\n"
     ]
    }
   ],
   "source": [
    "import numpy as np\n",
    "my_array = np.array([[2, -8, 0, 3],[-8, 0, -4, 6], [0, -4, -1, -2], [3, 6, -2, 1]])\n",
    "print(\"创建的对称矩阵为：\\n\",my_array)\n",
    "np.savetxt(\"D:\\my_array.csv\", my_array, fmt=\"%d\", delimiter=\",\")"
   ]
  },
  {
   "cell_type": "markdown",
   "id": "9438ff3e",
   "metadata": {
    "pycharm": {
     "name": "#%% md\n"
    }
   },
   "source": [
    "# 实验2\n",
    "2、Numpy数组切片：请将矩阵[[1, 2, 3], [4, 5, 6], [7, 8, 9]]对角线元素取出并打印。"
   ]
  },
  {
   "cell_type": "code",
   "execution_count": 4,
   "id": "f2be2314",
   "metadata": {
    "pycharm": {
     "name": "#%%\n"
    }
   },
   "outputs": [
    {
     "name": "stdout",
     "output_type": "stream",
     "text": [
      "原数组为：\n",
      " [[1 2 3]\n",
      " [4 5 6]\n",
      " [7 8 9]]\n",
      "第一个对角线元素：\n",
      " [[1]]\n",
      "第二个对角线元素：\n",
      " [[5]]\n",
      "第三个对角线元素：\n",
      " [[9]]\n",
      "对角线元素汇总：\n",
      " [1 5 9]\n"
     ]
    }
   ],
   "source": [
    "import numpy as np\n",
    "my_array = np.array([[1, 2, 3], [4, 5, 6], [7, 8, 9]])\n",
    "print(\"原数组为：\\n\",my_array)\n",
    "print(\"第一个对角线元素：\\n\", my_array[0:1, 0:1])\n",
    "print(\"第二个对角线元素：\\n\", my_array[1:2, 1:2])\n",
    "print(\"第三个对角线元素：\\n\", my_array[2:3, 2:3])\n",
    "my_array = np.diagonal(my_array)\n",
    "print(\"对角线元素汇总：\\n\", my_array)"
   ]
  },
  {
   "cell_type": "markdown",
   "id": "78e7e167",
   "metadata": {
    "pycharm": {
     "name": "#%% md\n"
    }
   },
   "source": [
    "# 实验3\n",
    "3、Numpy数组切片进阶：请将矩阵[[1, 2, 3], [4, 5, 6], [7, 8, 9]]中的第1列与第3行取出，并进行合并。"
   ]
  },
  {
   "cell_type": "code",
   "execution_count": 5,
   "id": "123d9e7f",
   "metadata": {
    "scrolled": false,
    "pycharm": {
     "name": "#%%\n"
    }
   },
   "outputs": [
    {
     "name": "stdout",
     "output_type": "stream",
     "text": [
      "原数组：\n",
      " [[1 2 3]\n",
      " [4 5 6]\n",
      " [7 8 9]]\n",
      "第一列数组：\n",
      " [1 4 7]\n",
      "第三行数组：\n",
      " [7 8 9]\n",
      "第一三行合并数组方式一：\n",
      " [[1 4 7]\n",
      " [7 8 9]]\n",
      "第一三行合并数组方式二：\n",
      " [1 4 7 7 8 9]\n"
     ]
    }
   ],
   "source": [
    "import numpy as np\n",
    "my_array = np.array([[1, 2, 3], [4, 5, 6], [7, 8, 9]])\n",
    "print(\"原数组：\\n\", my_array)\n",
    "print(\"第一列数组：\\n\", my_array[: ,0])\n",
    "print(\"第三行数组：\\n\", my_array[2, :])\n",
    "print(\"第一三行合并数组方式一：\\n\", np.vstack((my_array[: ,0], my_array[2, :])))\n",
    "print(\"第一三行合并数组方式二：\\n\", np.concatenate((my_array[: ,0], my_array[2, :]), axis = 0))"
   ]
  },
  {
   "cell_type": "markdown",
   "id": "cdb7f018",
   "metadata": {
    "pycharm": {
     "name": "#%% md\n"
    }
   },
   "source": [
    "3、Numpy数组切片进阶：请将矩阵[[1, 2, 3], [4, 5, 6], [7, 8, 9]]中的第1行与第3行取出，并进行合并。"
   ]
  },
  {
   "cell_type": "code",
   "execution_count": 6,
   "id": "b63d628e",
   "metadata": {
    "pycharm": {
     "name": "#%%\n"
    }
   },
   "outputs": [
    {
     "name": "stdout",
     "output_type": "stream",
     "text": [
      "原数组：\n",
      " [[1 2 3]\n",
      " [4 5 6]\n",
      " [7 8 9]]\n",
      "第一列数组：\n",
      " [1 4 7]\n",
      "第三行数组：\n",
      " [7 8 9]\n",
      "第一三行合并数组方式一：\n",
      " [[1 2 3]\n",
      " [7 8 9]]\n",
      "第一三行合并数组方式二：\n",
      " [1 2 3 7 8 9]\n"
     ]
    }
   ],
   "source": [
    "import numpy as np\n",
    "my_array = np.array([[1, 2, 3], [4, 5, 6], [7, 8, 9]])\n",
    "print(\"原数组：\\n\", my_array)\n",
    "print(\"第一列数组：\\n\", my_array[: ,0])\n",
    "print(\"第三行数组：\\n\", my_array[2, :])\n",
    "print(\"第一三行合并数组方式一：\\n\", np.vstack((my_array[0 ,:], my_array[2, :])))\n",
    "print(\"第一三行合并数组方式二：\\n\", np.concatenate((my_array[0 ,:], my_array[2, :]), axis = 0))"
   ]
  },
  {
   "cell_type": "markdown",
   "id": "653d5663",
   "metadata": {
    "pycharm": {
     "name": "#%% md\n"
    }
   },
   "source": [
    "# 实验4\n",
    "4、Pandas实验：随机生成'张三','李四','王五'的期中考试成绩数据result，他们的成绩包括'语文','英语','数学','python'，成绩分值在90至150之间。如下所示：\n",
    "\n",
    "        语文   英语   数学   python\n",
    "    张三   155    147    10     135\n",
    "    李四   240    251    252    220\n",
    "    王五   156    135    154    150\n",
    "\n",
    "要求：\n",
    "1. 生成刘六的数据，并加入DataFrame中(1分)。\n",
    "2. 将语文修改为java(1分)。\n",
    "3. 增加C语言成绩，成绩在 70至90之间随机生成(2分)。\n",
    "4. 按python成绩从高至低进行排序(1分)。"
   ]
  },
  {
   "cell_type": "code",
   "execution_count": 7,
   "id": "51318707",
   "metadata": {
    "pycharm": {
     "name": "#%%\n"
    }
   },
   "outputs": [
    {
     "name": "stdout",
     "output_type": "stream",
     "text": [
      "随机生成期中考试成绩：\n",
      "      语文   英语   数学  python\n",
      "张三  116  138  115     119\n",
      "李四  100  147  139      97\n",
      "王五  107  127  139     113\n",
      "随机生成刘六的期中考试成绩：\n",
      "      语文  英语   数学  python\n",
      "刘六  124  97  119     145\n",
      "刘六加入以后的期中考试成绩：\n",
      "      语文   英语   数学  python\n",
      "张三  116  138  115     119\n",
      "李四  100  147  139      97\n",
      "王五  107  127  139     113\n",
      "刘六  124   97  119     145\n",
      "语文改成java后的期中考试成绩：\n",
      "     java   英语   数学  python\n",
      "张三   116  138  115     119\n",
      "李四   100  147  139      97\n",
      "王五   107  127  139     113\n",
      "刘六   124   97  119     145\n",
      "随机生成的c语言期中考试成绩：\n",
      " [[77]\n",
      " [83]\n",
      " [70]\n",
      " [83]]\n",
      "增加c语言后的期中考试成绩：\n",
      "     java   英语   数学  python  c语言\n",
      "张三   116  138  115     119   77\n",
      "李四   100  147  139      97   83\n",
      "王五   107  127  139     113   70\n",
      "刘六   124   97  119     145   83\n",
      "按python成绩从高到底排序以后的期中考试成绩：\n",
      "     java   英语   数学  python  c语言\n",
      "刘六   124   97  119     145   83\n",
      "张三   116  138  115     119   77\n",
      "王五   107  127  139     113   70\n",
      "李四   100  147  139      97   83\n"
     ]
    }
   ],
   "source": [
    "import pandas as pd\n",
    "import numpy as np\n",
    "\n",
    "## 随机生成'张三','李四','王五'的期中考试成绩数据\n",
    "## 成绩包括'语文','英语','数学','python'，成绩分值在90至150之间\n",
    "df1 = pd.DataFrame(np.random.randint(90,150,size=(3, 4)),columns=['语文', '英语', '数学', 'python'], index=['张三', '李四', '王五'])\n",
    "print(\"随机生成期中考试成绩：\\n\",df1)\n",
    "\n",
    "## 生成刘六的数据\n",
    "df2 = pd.DataFrame(np.random.randint(90,150,size=(1, 4)),columns=['语文', '英语', '数学', 'python'], index=['刘六']) \n",
    "print(\"随机生成刘六的期中考试成绩：\\n\",df2)\n",
    "df = pd.concat([df1,df2])\n",
    "print(\"刘六加入以后的期中考试成绩：\\n\",df)\n",
    "\n",
    "## 将语文改成java\n",
    "df = df.rename(columns={'语文':'java'})\n",
    "print(\"语文改成java后的期中考试成绩：\\n\",df)\n",
    "\n",
    "## 增加C语言成绩\n",
    "df3 = np.random.randint(70,90,size=(4, 1))\n",
    "print(\"随机生成的c语言期中考试成绩：\\n\",df3)\n",
    "df.insert(df.shape[1], 'c语言', df3)\n",
    "print(\"增加c语言后的期中考试成绩：\\n\",df)\n",
    "\n",
    "## 排序\n",
    "df = df.sort_values(by='python',ascending=False)\n",
    "print(\"按python成绩从高到底排序以后的期中考试成绩：\\n\",df)"
   ]
  },
  {
   "cell_type": "markdown",
   "id": "53e34531",
   "metadata": {
    "pycharm": {
     "name": "#%% md\n"
    }
   },
   "source": [
    "# 参考资料\n",
    "> [DataFrame 新增里的五种方法](https://blog.csdn.net/qq_35318838/article/details/102720553)  \n",
    "> [创建对称矩阵（numpy）](https://blog.csdn.net/lanchunhui/article/details/50353637)  \n",
    "> [Pandas 生成随机整数序列](https://blog.csdn.net/weixin_35757704/article/details/109295540)  \n",
    "> [python 用numpy生成多维随机数组](https://blog.csdn.net/u013533991/article/details/41923837)"
   ]
  }
 ],
 "metadata": {
  "kernelspec": {
   "display_name": "Python 3.10.6 ('.venv': venv)",
   "language": "python",
   "name": "python3"
  },
  "language_info": {
   "codemirror_mode": {
    "name": "ipython",
    "version": 3
   },
   "file_extension": ".py",
   "mimetype": "text/x-python",
   "name": "python",
   "nbconvert_exporter": "python",
   "pygments_lexer": "ipython3",
   "version": "3.10.6"
  },
  "toc": {
   "base_numbering": 1,
   "nav_menu": {},
   "number_sections": true,
   "sideBar": true,
   "skip_h1_title": false,
   "title_cell": "Table of Contents",
   "title_sidebar": "Contents",
   "toc_cell": false,
   "toc_position": {
    "height": "calc(100% - 180px)",
    "left": "10px",
    "top": "150px",
    "width": "303.837px"
   },
   "toc_section_display": true,
   "toc_window_display": true
  },
  "vscode": {
   "interpreter": {
    "hash": "83bc210e78de25cc500a705d6cbaeb0699deec47629e9b8a07050b4467fa4493"
   }
  }
 },
 "nbformat": 4,
 "nbformat_minor": 5
}